{
 "cells": [
  {
   "cell_type": "code",
   "execution_count": null,
   "metadata": {
    "colab": {},
    "colab_type": "code",
    "id": "cQwkdOuuEgWs"
   },
   "outputs": [],
   "source": [
    "import os\n",
    "import tarfile\n",
    "import fnmatch\n",
    "\n",
    "import numpy as np\n",
    "import pandas as pd\n",
    "import nibabel as nib\n",
    "from collections import Counter\n",
    "\n",
    "from sklearn.preprocessing import normalize as sklearn_normalize\n",
    "from skimage.morphology import binary_opening\n",
    "\n",
    "\n",
    "from matplotlib import pyplot as plt\n",
    "\n",
    "\n",
    "import tensorflow as tf\n",
    "import keras\n",
    "from keras.models import *\n",
    "from keras.layers import *\n",
    "from keras.optimizers import *\n",
    "from keras.callbacks import ModelCheckpoint"
   ]
  },
  {
   "cell_type": "markdown",
   "metadata": {},
   "source": [
    "# Preprocessing\n",
    "\n",
    "### Data loading"
   ]
  },
  {
   "cell_type": "markdown",
   "metadata": {},
   "source": [
    "### Preprocessing pipeline\n",
    "\n",
    "General data preprocessing pipeline class for all tasks."
   ]
  },
  {
   "cell_type": "code",
   "execution_count": null,
   "metadata": {
    "colab": {
     "base_uri": "https://localhost:8080/",
     "height": 1000
    },
    "colab_type": "code",
    "executionInfo": {
     "elapsed": 18157,
     "status": "ok",
     "timestamp": 1580500919612,
     "user": {
      "displayName": "Sofiene Bourghes",
      "photoUrl": "",
      "userId": "12311982997570314993"
     },
     "user_tz": -60
    },
    "id": "OGyX3LyTeAnB",
    "outputId": "8c5faa59-e1f4-484b-fe53-fc0d619be8d6"
   },
   "outputs": [],
   "source": [
    "from src.loader import DatasetLoader\n",
    "\n",
    "pipeline = DatasetLoader(\"Task02_Heart\")\n",
    "x_train, y_train, x_test = pipeline.get_x_train(), pipeline.get_y_train(), pipeline.get_x_test()\n",
    "# pipeline.display_train_set()"
   ]
  },
  {
   "cell_type": "markdown",
   "metadata": {},
   "source": [
    "### Unbalanced Dataset Handling"
   ]
  },
  {
   "cell_type": "code",
   "execution_count": null,
   "metadata": {
    "colab": {},
    "colab_type": "code",
    "id": "kZ003mm74lsa"
   },
   "outputs": [],
   "source": [
    "from sklearn.utils.class_weight import compute_class_weight\n",
    "\n",
    "class_wights = compute_class_weight(class_weight='balanced', classes=np.array([0, 1]), \n",
    "                                    y=y_train.flatten())\n",
    "class_wights = {i : w for i,w in enumerate(class_wights)}"
   ]
  },
  {
   "cell_type": "markdown",
   "metadata": {},
   "source": [
    "### Create Custom Metrics/Loss - Dice coeff loss"
   ]
  },
  {
   "cell_type": "code",
   "execution_count": null,
   "metadata": {
    "colab": {
     "base_uri": "https://localhost:8080/",
     "height": 1000
    },
    "colab_type": "code",
    "executionInfo": {
     "elapsed": 3561,
     "status": "ok",
     "timestamp": 1580497484538,
     "user": {
      "displayName": "Sofiene Bourghes",
      "photoUrl": "",
      "userId": "12311982997570314993"
     },
     "user_tz": -60
    },
    "id": "O830j0bNlnlO",
    "outputId": "4e0ee019-4963-4233-ac23-59ddad12430c"
   },
   "outputs": [],
   "source": [
    "from src.model import get_unet\n",
    "\n",
    "input_img = Input((pipeline.img_shape[0], pipeline.img_shape[1], 1), name='img')\n",
    "model = get_unet(input_img, n_filters=16, dropout=0.05, batchnorm=True)\n",
    "model.compile(optimizer=legacy.Adam())\n",
    "model.summary()"
   ]
  },
  {
   "cell_type": "markdown",
   "metadata": {},
   "source": [
    "# Training Model"
   ]
  },
  {
   "cell_type": "code",
   "execution_count": null,
   "metadata": {
    "colab": {
     "base_uri": "https://localhost:8080/",
     "height": 1000
    },
    "colab_type": "code",
    "executionInfo": {
     "elapsed": 1134197,
     "status": "ok",
     "timestamp": 1580498872560,
     "user": {
      "displayName": "Sofiene Bourghes",
      "photoUrl": "",
      "userId": "12311982997570314993"
     },
     "user_tz": -60
    },
    "id": "UH2p3cugmBNu",
    "outputId": "3e9075e3-9d61-489a-d695-b83e61c8ecd8"
   },
   "outputs": [],
   "source": [
    "from datetime import datetime\n",
    "\n",
    "epoch = 50\n",
    "batch_size = 32\n",
    "\n",
    "logdir = PATH + \"Model/logs/unet-batch_size-{}-epochs-{}-loss-{}.h5\".format(batch_size, epoch, 'dice_coef_loss') + datetime.now().strftime(\"%Y%m%d-%H%M%S\")\n",
    "tensorboard_callback = tf.keras.callbacks.TensorBoard(log_dir=logdir)"
   ]
  },
  {
   "cell_type": "code",
   "execution_count": null,
   "metadata": {},
   "outputs": [],
   "source": [
    "history = model.fit(x = x_train.reshape((x_train.shape[0], x_train.shape[1], x_train.shape[2] ,1)),\n",
    "                    y = y_train.reshape((y_train.shape[0], y_train.shape[1], y_train.shape[2] ,1)),\n",
    "                    batch_size=batch_size, epochs = epoch,\n",
    "                    validation_split=0.2,\n",
    "                    class_weight=class_wights,\n",
    "                    callbacks=[tensorboard_callback,\n",
    "                               ModelCheckpoint(\n",
    "                                   filepath=PATH + \"Model/unet-pipeline-batch_size-{}-epochs-{}-loss-{}.h5\".format(batch_size, epoch, 'dice_coef_loss'), \n",
    "                                   verbose=1, save_best_only=True, save_weights_only=False)                            \n",
    "])"
   ]
  },
  {
   "cell_type": "markdown",
   "metadata": {},
   "source": [
    "# Training Metrics Result"
   ]
  },
  {
   "cell_type": "code",
   "execution_count": null,
   "metadata": {
    "colab": {
     "base_uri": "https://localhost:8080/",
     "height": 590
    },
    "colab_type": "code",
    "executionInfo": {
     "elapsed": 1327,
     "status": "ok",
     "timestamp": 1580498907447,
     "user": {
      "displayName": "Sofiene Bourghes",
      "photoUrl": "",
      "userId": "12311982997570314993"
     },
     "user_tz": -60
    },
    "id": "Q7XIAw0VnbU0",
    "outputId": "e8583cbb-1c35-491d-d4ba-fbdb0aaacbbc",
    "scrolled": true
   },
   "outputs": [],
   "source": [
    "print(history.history.keys())\n",
    "#  \"Accuracy\"\n",
    "plt.plot(history.history['dice_coef'])\n",
    "plt.plot(history.history['val_dice_coef'])\n",
    "plt.title('model accuracy')\n",
    "plt.ylabel('accuracy')\n",
    "plt.xlabel('epoch')\n",
    "plt.legend(['train', 'validation'], loc='upper left')\n",
    "plt.show()\n",
    "# \"Loss\"\n",
    "plt.plot(history.history['loss'])\n",
    "plt.plot(history.history['val_loss'])\n",
    "plt.title('model loss')\n",
    "plt.ylabel('loss')\n",
    "plt.xlabel('epoch')\n",
    "plt.legend(['train', 'validation'], loc='upper left')\n",
    "plt.show()"
   ]
  },
  {
   "cell_type": "markdown",
   "metadata": {},
   "source": [
    "# Load Model and Predict on Test Data"
   ]
  },
  {
   "cell_type": "code",
   "execution_count": null,
   "metadata": {
    "colab": {
     "base_uri": "https://localhost:8080/",
     "height": 292
    },
    "colab_type": "code",
    "executionInfo": {
     "elapsed": 16018,
     "status": "ok",
     "timestamp": 1580501533495,
     "user": {
      "displayName": "Sofiene Bourghes",
      "photoUrl": "",
      "userId": "12311982997570314993"
     },
     "user_tz": -60
    },
    "id": "fRc55NLa_iTe",
    "outputId": "fadb6528-602b-483c-d740-4b429f63286e",
    "scrolled": true
   },
   "outputs": [],
   "source": [
    "from src.model import dice_coef_loss, dice_coef\n",
    "PATH = './'\n",
    "model_loaded = load_model(\n",
    "    PATH + 'Model/unet-pipeline-batch_size-32-epochs-50-loss-dice_coef_loss.h5', \n",
    "    custom_objects={'dice_coef_loss': dice_coef_loss, 'dice_coef': dice_coef})"
   ]
  },
  {
   "cell_type": "code",
   "execution_count": null,
   "metadata": {
    "colab": {},
    "colab_type": "code",
    "id": "9juwgRCy3Vsr"
   },
   "outputs": [],
   "source": [
    "y_train = model_loaded.predict(x_train.reshape((x_train.shape[0], x_train.shape[1], x_train.shape[2] ,1)))\n",
    "y_train = y_train.reshape((y_train.shape[0], y_train.shape[1], y_train.shape[2]))\n",
    "y_test_post_process = pipeline.postprocess(y_train)"
   ]
  },
  {
   "cell_type": "code",
   "execution_count": null,
   "metadata": {},
   "outputs": [],
   "source": [
    "def display_result(x_dataset, y_dataset, nb_patient=10, slice_index=30) :\n",
    "  fig = plt.figure(figsize= (7, 50), dpi = 90)\n",
    "\n",
    "  for i in range(nb_patient):\n",
    "    original = x_dataset[i][:,:,slice_index]\n",
    "    plt.subplot(10, 2, i*2+1)\n",
    "    plt.imshow(original)\n",
    "    plt.subplots_adjust(wspace = 0)\n",
    "    plt.title(\"original\")\n",
    "    plt.axis('off')\n",
    "\n",
    "    mask = y_dataset[i][:, :, slice_index] == 1\n",
    "    tmp = np.copy(x_dataset[i][:, :, slice_index])\n",
    "    tmp[mask] = 3000\n",
    "    # dice = np.sum(tmp[tmp==k])*2.0 / (np.sum(seg) + np.sum(gt))\n",
    "    # print 'Dice similarity score is {}'.format(dice)\n",
    "\n",
    "    plt.subplot(10, 2, i*2+2)\n",
    "    plt.imshow(tmp)\n",
    "    plt.title(\"PREDICTION\")\n",
    "    plt.subplots_adjust(wspace = 0)\n",
    "    plt.axis('off')\n",
    "\n",
    "def convert_to_dataset(data: np.array, data_size: list, nb_patient=10):\n",
    "  start = 0\n",
    "  dataset = []\n",
    "  for i in range(nb_patient) :\n",
    "    original = data[start:start+data_size[i]+1].T\n",
    "    dataset.append(original)\n",
    "    start += data_size[i]+1\n",
    "  return dataset\n",
    "\n",
    "# Convert to each one\n",
    "data_size = pipeline.x_train_len\n",
    "y_train_dataset = convert_to_dataset(y_test_post_process, data_size)"
   ]
  },
  {
   "cell_type": "code",
   "execution_count": null,
   "metadata": {
    "colab": {},
    "colab_type": "code",
    "id": "C2T_v8o3QLB5"
   },
   "outputs": [],
   "source": [
    "def display_result(x_dataset, y_dataset, nb_patient=10, slice_index=30) :\n",
    "  fig = plt.figure(figsize= (7, 50), dpi = 90)\n",
    "\n",
    "  for i in range(nb_patient):\n",
    "    original = x_dataset[i][:,:,slice_index]\n",
    "    plt.subplot(10, 2, i*2+1)\n",
    "    plt.imshow(original)\n",
    "    plt.subplots_adjust(wspace = 0)\n",
    "    plt.title(\"original\")\n",
    "    plt.axis('off')\n",
    "\n",
    "    mask = y_dataset[i][:, :, slice_index] == 1\n",
    "    tmp = np.copy(x_dataset[i][:, :, slice_index])\n",
    "    tmp[mask] = 3000\n",
    "    # dice = np.sum(tmp[tmp==k])*2.0 / (np.sum(seg) + np.sum(gt))\n",
    "    # print 'Dice similarity score is {}'.format(dice)\n",
    "\n",
    "    plt.subplot(10, 2, i*2+2)\n",
    "    plt.imshow(tmp)\n",
    "    plt.title(\"PREDICTION\")\n",
    "    plt.subplots_adjust(wspace = 0)\n",
    "    plt.axis('off')\n",
    "\n",
    "\n",
    "def convert_to_dataset(data: np.array, data_size: list, nb_patient=10):\n",
    "  start = 0\n",
    "  dataset = []\n",
    "  for i in range(nb_patient) :\n",
    "    original = data[start:start+data_size[i]+1].T\n",
    "    dataset.append(original)\n",
    "    start += data_size[i]+1\n",
    "  return dataset\n",
    "\n",
    "# Convert to each one\n",
    "data_size = pipeline.x_test_size\n",
    "x_test_dataset = convert_to_dataset(x_test, data_size)\n",
    "y_test_dataset = convert_to_dataset(y_test_post_process, data_size)\n",
    "display_result(x_test_dataset, y_test_dataset)"
   ]
  }
 ],
 "metadata": {
  "accelerator": "GPU",
  "colab": {
   "collapsed_sections": [],
   "machine_shape": "hm",
   "name": "Edwin_project_sofiene.ipynb",
   "provenance": [
    {
     "file_id": "1Y9jlwybwmOEeZOMisWbz8vR3G8i7IKaL",
     "timestamp": 1580375764057
    },
    {
     "file_id": "1QlBwRZrrgfoQDLmX7PuXYjfc0wgzxo9p",
     "timestamp": 1580329274792
    }
   ],
   "toc_visible": true
  },
  "kernelspec": {
   "display_name": "Python 3",
   "language": "python",
   "name": "python3"
  },
  "language_info": {
   "codemirror_mode": {
    "name": "ipython",
    "version": 3
   },
   "file_extension": ".py",
   "mimetype": "text/x-python",
   "name": "python",
   "nbconvert_exporter": "python",
   "pygments_lexer": "ipython3",
   "version": "3.7.3"
  }
 },
 "nbformat": 4,
 "nbformat_minor": 1
}
